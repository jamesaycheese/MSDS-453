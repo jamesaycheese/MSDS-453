{
 "cells": [
  {
   "cell_type": "code",
   "execution_count": 1,
   "id": "97337634",
   "metadata": {},
   "outputs": [],
   "source": [
    "import re\n",
    "\n",
    "# Uncomment for the appropriate environment\n",
    "#destination_folder= \".\" # Google Colab (look in the folder on the left-hand-side for the temporary dock or use Google Drive code in cell 3 to help save it permanently)\n",
    "destination_folder= \"/Users/jck/Documents/MSDS 453/Week 1/\" # MacOS\n",
    "#destination_folder= r'c:\\Users\\myusername\\Downloads' # Windows\n",
    "\n",
    "# Use the initials assigned to you on Assignment 0 page on Canvas.\n",
    "StudentName = \"ZEO\"\n",
    "\n",
    "# Check that StudentName is three characters or less\n",
    "if len(StudentName) > 3:\n",
    "    raise ValueError(\"StudentName should be initials only and 3 characters or less.\")\n",
    "\n",
    "# Replace with your movie title.\n",
    "MovieTitle = \"Top Gun\"\n",
    "\n",
    "# Uncomment only one line below to select the genre:\n",
    "Genre = \"Action\"\n",
    "#Genre = \"Comedy\"\n",
    "#Genre = \"Horror\"\n",
    "#Genre = \"Sci-Fi\"\n",
    "\n",
    "\n",
    "MovieTitle = re.sub(\"\\s\", \"_\", MovieTitle)\n",
    "MovieTitle = re.sub(\":\", \"_\", MovieTitle)\n"
   ]
  },
  {
   "cell_type": "code",
   "execution_count": 2,
   "id": "973fbc9c",
   "metadata": {},
   "outputs": [],
   "source": [
    "# Make sure the movie reivews are surrouneded by ends with three double-quotes, like this: \n",
    "#  \"\"\"Movie review movie review movie review.\"\"\"\n",
    "\n",
    "# If you get an error:\n",
    "#     SyntaxError: unterminated string literal\n",
    "# , that's because there might be more than three double-quotes at the end of the movie review."
   ]
  },
  {
   "cell_type": "code",
   "execution_count": 3,
   "id": "30fb7657",
   "metadata": {},
   "outputs": [],
   "source": [
    "# Uncomment below for saving permanently to Google Drive from Google Colab\n",
    "\n",
    "#from google.colab import drive\n",
    "\n",
    "#drive.mount('/content/gdrive/My Drive')\n",
    "##drive.mount('/content/gdrive/')\n",
    "\n",
    "#destination_folder= \"/content/gdrive/...\" # This will override the destination folder above."
   ]
  },
  {
   "cell_type": "code",
   "execution_count": 4,
   "id": "86075c41",
   "metadata": {},
   "outputs": [
    {
     "name": "stdout",
     "output_type": "stream",
     "text": [
      "Requirement already satisfied: nltk in /Users/jck/anaconda3/lib/python3.11/site-packages (3.8.1)\n",
      "Requirement already satisfied: click in /Users/jck/anaconda3/lib/python3.11/site-packages (from nltk) (8.1.7)\n",
      "Requirement already satisfied: joblib in /Users/jck/anaconda3/lib/python3.11/site-packages (from nltk) (1.2.0)\n",
      "Requirement already satisfied: regex>=2021.8.3 in /Users/jck/anaconda3/lib/python3.11/site-packages (from nltk) (2023.10.3)\n",
      "Requirement already satisfied: tqdm in /Users/jck/anaconda3/lib/python3.11/site-packages (from nltk) (4.65.0)\n"
     ]
    }
   ],
   "source": [
    "# UTILITIES\n",
    "\n",
    "!pip install nltk"
   ]
  },
  {
   "cell_type": "code",
   "execution_count": 5,
   "id": "fd3d99fb",
   "metadata": {},
   "outputs": [
    {
     "name": "stderr",
     "output_type": "stream",
     "text": [
      "[nltk_data] Downloading package punkt to /Users/jck/nltk_data...\n",
      "[nltk_data]   Package punkt is already up-to-date!\n"
     ]
    }
   ],
   "source": [
    "import nltk\n",
    "from nltk.tokenize import word_tokenize\n",
    "\n",
    "nltk.download('punkt')\n",
    "\n",
    "def check_string_length(s):\n",
    "    number_words= len(word_tokenize(s))\n",
    "    if number_words < 500:\n",
    "        return \"Length too short! \" + str(number_words) + \" words\"\n",
    "    return \"Length okay. \" + str(number_words) + \" words\"\n",
    "\n",
    "def clean_up_white_space(s):\n",
    "    s = ' '.join(s.split())\n",
    "    return s\n"
   ]
  },
  {
   "cell_type": "code",
   "execution_count": 6,
   "id": "174ca552",
   "metadata": {},
   "outputs": [
    {
     "name": "stdout",
     "output_type": "stream",
     "text": [
      "Length okay. 605 words\n"
     ]
    }
   ],
   "source": [
    "\n",
    "FileName1 = StudentName + \"_Doc1_\" + MovieTitle\n",
    "MovieReview1 = \"\"\"Top Gun delivers on all fronts when it comes to action and excitement, making it one of the most iconic films of the 1980s. Directed by Tony Scott, this movie takes us deep into the world of naval aviation with Tom Cruise at the helm as Pete “Maverick” Mitchell. From the very first moments, it’s clear that Top Gun is not just about flying jets—it’s about the intense personalities that pilot them and the relationships that form under pressure.\n",
    "\n",
    "One of the film’s greatest strengths is how it balances the action with its characters’ development. Maverick is far from just an adrenaline junkie; his character goes through significant growth. At the start, he’s cocky, impulsive, and often disregards the rules, which puts him at odds with his fellow pilots. But as the story unfolds, we see a more vulnerable side to him, especially in his relationship with Goose, his best friend and radar intercept officer. Goose provides the emotional center of the film, and their friendship adds depth to what could have been a straightforward action flick. When tragedy strikes, Maverick is forced to confront the consequences of his recklessness in a way that completely shifts the tone of the movie.\n",
    "\n",
    "Visually, Top Gun stands out even decades after its release. The aerial combat sequences are stunning, capturing the intensity and speed of fighter jet maneuvers with remarkable clarity. Scott’s decision to use real jets and practical effects gives the film a level of authenticity that’s still impressive today. You can almost feel the G-forces as the planes twist and turn through the skies. These scenes aren’t just there for spectacle—they’re integral to the story and Maverick’s journey, each one pushing him closer to realizing his full potential.\n",
    "\n",
    "And of course, the soundtrack is unforgettable. Songs like “Danger Zone” by Kenny Loggins and “Take My Breath Away” by Berlin have become synonymous with Top Gun. The music perfectly complements the film’s energy and emotional beats, heightening both the tension in the air and the more intimate moments between Maverick and Charlie, his love interest played by Kelly McGillis. Their relationship provides a softer contrast to the high-stakes world of fighter jets, though it never detracts from the film’s main focus: Maverick’s personal and professional evolution.\n",
    "\n",
    "What keeps Top Gun relevant isn’t just its thrilling dogfights or catchy music, but its portrayal of growth and redemption. Maverick’s arc is relatable—he makes mistakes, deals with loss, and learns to take responsibility, becoming a better pilot and person by the film’s end. The rivalry between Maverick and Iceman (Val Kilmer) is another highlight, evolving from intense competition to mutual respect, adding complexity to both characters.\n",
    "\n",
    "Ultimately, Top Gun isn’t just an action movie. It’s a film about friendship, loss, and finding one’s way in a highly competitive, dangerous environment. With its stellar performances, particularly from Cruise, and its flawless execution of aerial combat scenes, Top Gun is a movie that still resonates, blending adrenaline with heart in a way few films have managed since.\"\"\"\n",
    "\n",
    "MovieReview1 = clean_up_white_space(MovieReview1)\n",
    "print(check_string_length(MovieReview1))\n",
    "\n",
    "# Uncomment one line only\n",
    "ReviewType1 = \"Positive\"\n",
    "#ReviewType1 = \"Negative\"\n"
   ]
  },
  {
   "cell_type": "code",
   "execution_count": 7,
   "id": "2e163d32",
   "metadata": {},
   "outputs": [
    {
     "name": "stdout",
     "output_type": "stream",
     "text": [
      "Length okay. 658 words\n"
     ]
    }
   ],
   "source": [
    "\n",
    "FileName2 = StudentName + \"_Doc2_\" + MovieTitle\n",
    "MovieReview2 = \"\"\"Few movies capture the spirit of the 1980s quite like Top Gun. Directed by Tony Scott and starring Tom Cruise as the bold and often reckless pilot Maverick, the film has everything you’d expect from a blockbuster: high-flying action, a killer soundtrack, and characters that stick with you long after the credits roll. What makes Top Gun so memorable, though, is how it pairs thrilling aerial sequences with a story about personal growth and camaraderie.\n",
    "\n",
    "From the moment we meet Maverick, it’s clear that he’s not like the other pilots at the Top Gun Naval Flying School. He’s talented, sure, but his attitude is what sets him apart—and not always in a good way. Throughout the film, we watch as he navigates the challenges of his profession, both in the air and on the ground. His friendship with Goose is the heart of the movie, grounding Maverick’s more extreme tendencies. Goose adds humor and warmth to the film, making his eventual death all the more impactful. It’s a turning point for Maverick, forcing him to confront his own mortality and rethink the way he approaches both flying and life.\n",
    "\n",
    "What Top Gun does exceptionally well is convey the intensity of aerial combat. The flying scenes are shot with real F-14 fighter jets, and you can feel the tension as the pilots push their planes to the limit. The cinematography captures the action in a way that makes you feel like you’re right there in the cockpit. It’s easy to see why these sequences are still considered some of the best in action film history. The danger feels real, and every maneuver matters.\n",
    "\n",
    "The rivalry between Maverick and Iceman (Val Kilmer) is another key element of the story. Iceman is everything Maverick isn’t—calm, disciplined, and by-the-book. Their tension is palpable from the start, and it’s clear that they push each other to be better. By the end of the movie, their relationship has evolved from outright hostility to respect, a journey that feels earned.\n",
    "\n",
    "Music plays a huge role in Top Gun, too. The soundtrack is just as iconic as the film itself. Songs like “Danger Zone” and “Take My Breath Away” aren’t just background noise—they’re woven into the very fabric of the movie. The music adds a sense of energy and drama to the already high-stakes scenes, enhancing the film’s emotional beats.\n",
    "\n",
    "While the film is packed with action, it’s the quieter moments that give it heart. Maverick’s relationship with Charlie adds depth to his character, showing that he’s more than just a cocky pilot. Their romance isn’t the focal point of the film, but it serves as a nice counterbalance to the high-octane flying scenes.\n",
    "\n",
    "Top Gun endures not just because of its adrenaline-pumping action but because it gives audiences characters they can care about. Maverick’s journey is one of redemption, and by the time the credits roll, he’s proven that he’s more than just a hotshot pilot—he’s a leader, a friend, and someone who’s learned to embrace responsibility. That’s why, after all these years, Top Gun still soars.\n",
    "\n",
    "Both of these reviews have been rewritten to sound like natural, human reviews without the “essay-like” tone. Let me know if you’d like me to revise or add more!\"\"\"\n",
    "\n",
    "MovieReview2 = clean_up_white_space(MovieReview2)\n",
    "print(check_string_length(MovieReview2))\n",
    "\n",
    "# Uncomment one line only\n",
    "ReviewType2 = \"Positive\"\n",
    "#ReviewType2 = \"Negative\"\n"
   ]
  },
  {
   "cell_type": "code",
   "execution_count": 8,
   "id": "a4703bb1",
   "metadata": {},
   "outputs": [
    {
     "name": "stdout",
     "output_type": "stream",
     "text": [
      "Length okay. 558 words\n"
     ]
    }
   ],
   "source": [
    "\n",
    "FileName3 = StudentName + \"_Doc3_\" + MovieTitle\n",
    "MovieReview3 = \"\"\"If you’re looking for a movie that perfectly encapsulates the pulse-pounding excitement of aviation and the emotional stakes of friendship and rivalry, Top Gun is it. Released in 1986, this Tony Scott-directed classic still holds up today as one of the best action films ever made. Tom Cruise stars as Pete “Maverick” Mitchell, a daring young pilot with a chip on his shoulder and something to prove. The movie takes you on a high-flying journey as Maverick navigates his way through the prestigious Top Gun Naval Flying School, where only the best of the best get to train.\n",
    "\n",
    "What makes Top Gun such a standout is its ability to weave thrilling aerial combat sequences into a story that’s ultimately about personal growth. Maverick is not just flying against other pilots; he’s also trying to outrun the shadow of his father, a decorated pilot who died under mysterious circumstances. This gives the character a bit more depth than you might expect in an 80s action movie. Cruise plays the role with his trademark intensity, making Maverick both likable and frustrating at times. His chemistry with his co-pilot and best friend, Goose, played by Anthony Edwards, is a huge part of what makes this movie work. Goose acts as a stabilizing force for Maverick, and their camaraderie is heartfelt and believable.\n",
    "\n",
    "The aerial combat scenes are where Top Gun truly shines. Scott’s direction, combined with real F-14 fighter jets, creates some of the most thrilling dogfights ever filmed. The realism of these scenes is incredible, and it feels like you’re right there in the cockpit with the pilots. The tension is palpable, and the stakes feel real, especially during the final climactic battle. The cinematography captures the speed and danger of each maneuver, making these sequences not only exciting but also nerve-wracking.\n",
    "\n",
    "Of course, it wouldn’t be Top Gun without its unforgettable soundtrack. “Danger Zone” by Kenny Loggins has become synonymous with the film, and it perfectly sets the tone for the high-stakes world of fighter pilots. “Take My Breath Away” by Berlin adds a romantic flair, enhancing the scenes between Maverick and Charlie (Kelly McGillis), his love interest. While the romance may feel a bit secondary to the main plot, it still provides a nice counterbalance to all the testosterone-fueled action.\n",
    "\n",
    "Val Kilmer’s Iceman is another highlight of the film. His rivalry with Maverick adds an extra layer of tension, and the two characters push each other to be better pilots. By the end, their relationship evolves from antagonism to mutual respect, which feels earned and satisfying.\n",
    "\n",
    "In the end, Top Gun is more than just an action movie—it’s a story about friendship, competition, and personal growth. It’s one of those rare films that strikes the perfect balance between adrenaline and emotion. Even after all these years, it remains a must-watch for anyone who loves action-packed movies with heart.\"\"\"\n",
    "\n",
    "MovieReview3 = clean_up_white_space(MovieReview3)\n",
    "print(check_string_length(MovieReview3))\n",
    "\n",
    "# Uncomment one line only\n",
    "ReviewType3 = \"Positive\"\n",
    "#ReviewType3 = \"Negative\"\n"
   ]
  },
  {
   "cell_type": "code",
   "execution_count": 9,
   "id": "8ece57df",
   "metadata": {},
   "outputs": [
    {
     "name": "stdout",
     "output_type": "stream",
     "text": [
      "Length okay. 581 words\n"
     ]
    }
   ],
   "source": [
    "\n",
    "FileName4 = StudentName + \"_Doc4_\" + MovieTitle\n",
    "MovieReview4 = \"\"\"Top Gun is the kind of movie that leaves a lasting impression, and it’s not just because of its high-octane action scenes. Directed by Tony Scott, the film has a unique blend of breathtaking aerial combat, unforgettable characters, and a soundtrack that’s become iconic in its own right. Tom Cruise delivers a star-making turn as Maverick, the young and ambitious fighter pilot who is determined to be the best at the elite Top Gun school. From the moment the movie starts, you’re drawn into Maverick’s world—a world filled with competition, danger, and the pursuit of excellence.\n",
    "\n",
    "What makes Top Gun so effective is the way it balances action with character development. Yes, the dogfights are incredible, but they wouldn’t mean as much if we didn’t care about the people flying the planes. Maverick is a flawed character; he’s cocky, impulsive, and often makes reckless decisions. But as the movie progresses, you see him evolve, especially after the death of his best friend, Goose. The loss of Goose is a turning point for Maverick, forcing him to confront his own mortality and rethink his priorities. Cruise’s portrayal of Maverick’s grief and guilt is surprisingly nuanced, adding an emotional weight to the film that elevates it beyond a typical action flick.\n",
    "\n",
    "The film’s aerial sequences are, of course, legendary. Using real Navy jets, Scott captures the sheer power and speed of fighter planes in a way that few films have been able to replicate. The dogfights are fast-paced and intense, keeping you on the edge of your seat. What’s remarkable is how these scenes are not just about showing off cool stunts; they’re also integral to Maverick’s personal journey. Each dogfight serves as a test for Maverick, not just of his skill but of his character.\n",
    "\n",
    "The supporting cast is also stellar. Val Kilmer’s Iceman is the perfect foil to Maverick. Where Maverick is wild and unpredictable, Iceman is disciplined and by-the-book. Their rivalry is one of the best parts of the movie, and by the end, when they’ve earned each other’s respect, it feels completely satisfying. Kelly McGillis as Charlie adds a romantic subplot that, while not the focus of the movie, provides a nice counterbalance to all the action.\n",
    "\n",
    "And then there’s the music. The Top Gun soundtrack is iconic for a reason. “Danger Zone” sets the tone for the high-flying action, while “Take My Breath Away” adds a layer of romance to Maverick’s relationship with Charlie. The music enhances the emotional beats of the film, making those key moments even more impactful.\n",
    "\n",
    "All in all, Top Gun is a perfect blend of action, emotion, and style. It’s a film that has stood the test of time and continues to resonate with audiences today. Whether you’re watching it for the first time or revisiting it after many years, Top Gun never fails to entertain.\"\"\"\n",
    "\n",
    "MovieReview4 = clean_up_white_space(MovieReview4)\n",
    "print(check_string_length(MovieReview4))\n",
    "\n",
    "# Uncomment one line only\n",
    "ReviewType4 = \"Positive\"\n",
    "#ReviewType4 = \"Negative\"\n"
   ]
  },
  {
   "cell_type": "code",
   "execution_count": 10,
   "id": "66c61730",
   "metadata": {},
   "outputs": [
    {
     "name": "stdout",
     "output_type": "stream",
     "text": [
      "Length okay. 680 words\n"
     ]
    }
   ],
   "source": [
    "\n",
    "FileName5 = StudentName + \"_Doc5_\" + MovieTitle\n",
    "MovieReview5 = \"\"\"Top Gun isn’t just a movie—it’s an experience, one that has left an indelible mark on both pop culture and action cinema. Directed by Tony Scott, the film skyrocketed Tom Cruise to superstardom and cemented his place as an iconic action hero. What makes Top Gun so engaging, even decades after its release, is the seamless combination of adrenaline-pumping aerial combat, memorable characters, and a soundtrack that captures the spirit of the 1980s.\n",
    "\n",
    "At the heart of Top Gun is the story of Pete “Maverick” Mitchell, a young, talented fighter pilot with a lot to prove. Cruise’s performance as Maverick is magnetic. He plays the role with a mix of swagger, vulnerability, and charm, making Maverick a character you want to root for despite his flaws. Maverick is reckless, daring, and often arrogant, but as the film progresses, we see him grow into a more thoughtful and mature pilot. His journey isn’t just about mastering the skies—it’s about mastering himself.\n",
    "\n",
    "One of the things Top Gun does best is making the audience care about the characters, especially the relationship between Maverick and his best friend, Goose. Played by Anthony Edwards, Goose is the heart of the film, providing much-needed levity and warmth. The chemistry between Cruise and Edwards is natural and adds an emotional layer to the movie. When Goose tragically dies in a training accident, the film takes a darker, more introspective turn. Maverick’s grief and guilt become central to the story, and his arc of redemption becomes even more compelling. The loss of Goose is one of the film’s most powerful moments and serves as a turning point for Maverick’s character.\n",
    "\n",
    "In terms of action, Top Gun is a visual feast. The aerial combat sequences are stunning, and the fact that real F-14 jets were used gives the film an authenticity that few action movies can match. The dogfights are thrilling, shot with a sense of speed and intensity that puts the audience right in the middle of the action. Tony Scott’s direction is masterful in these scenes, using tight shots and fast editing to create tension and excitement. The aerial stunts feel dangerous and exhilarating, making you appreciate the skill and bravery of the pilots.\n",
    "\n",
    "Val Kilmer’s Iceman provides a perfect foil to Maverick. While Maverick is impulsive and emotional, Iceman is calm, disciplined, and controlled. Their rivalry drives much of the tension in the film, but it’s more than just a competition. By the end of the movie, Maverick earns Iceman’s respect, and their final handshake is one of the most satisfying moments in the film. It’s a classic story of rivals becoming allies, and it works beautifully here.\n",
    "\n",
    "No review of Top Gun would be complete without mentioning the iconic soundtrack. Songs like “Danger Zone” and “Take My Breath Away” have become synonymous with the movie and play a key role in defining its tone. The music perfectly complements the high-energy action sequences and emotional beats, making it one of the most memorable soundtracks of all time.\n",
    "\n",
    "Overall, Top Gun is a film that blends action, emotion, and style in a way that few movies have managed to do. It’s an iconic piece of cinema that has stood the test of time, and it’s easy to see why it remains so beloved by audiences today. Whether it’s the exhilarating dogfights, the memorable characters, or the killer soundtrack, Top Gun is a movie that truly soars.\"\"\"\n",
    "\n",
    "MovieReview5 = clean_up_white_space(MovieReview5)\n",
    "print(check_string_length(MovieReview5))\n",
    "\n",
    "# Uncomment one line only\n",
    "ReviewType5 = \"Positive\"\n",
    "#ReviewType5 = \"Negative\"\n"
   ]
  },
  {
   "cell_type": "code",
   "execution_count": 11,
   "id": "2bd1efa1",
   "metadata": {},
   "outputs": [
    {
     "name": "stdout",
     "output_type": "stream",
     "text": [
      "Length okay. 585 words\n"
     ]
    }
   ],
   "source": [
    "\n",
    "FileName6 = StudentName + \"_Doc6_\" + MovieTitle\n",
    "MovieReview6 = \"\"\"While Top Gun is often hailed as an action classic, it falls short when viewed through a modern lens. Directed by Tony Scott and starring Tom Cruise as the cocky fighter pilot Pete “Maverick” Mitchell, the film offers plenty of high-octane aerial combat but little in the way of meaningful character development or narrative depth. For all its flash and flair, Top Gun feels more like an overblown recruitment ad for the U.S. Navy than a well-rounded movie.\n",
    "\n",
    "One of the biggest issues with Top Gun is the lack of a cohesive plot. The story centers around Maverick’s time at the elite Top Gun Naval Flying School, where he competes with other pilots to be the best. But beyond this basic premise, the movie doesn’t offer much in terms of a compelling narrative. The stakes feel surprisingly low for a film about fighter pilots, and the script seems more concerned with showcasing Maverick’s bravado than exploring the complexities of his character. His arc—from reckless hotshot to slightly more disciplined pilot—isn’t particularly well-developed, and by the end of the movie, it’s hard to feel that he’s truly learned or changed much.\n",
    "\n",
    "Then there’s the romance subplot between Maverick and his flight instructor, Charlie, played by Kelly McGillis. Their relationship feels forced and lacks genuine chemistry. The scenes between them are awkward and poorly written, with dialogue that sounds more like a string of cliches than actual conversation. The love story seems like it was tacked on as an afterthought, more to cater to audience expectations than to add anything meaningful to the plot. Charlie’s role in the film is largely underutilized, and she’s reduced to a love interest rather than being a strong, independent character.\n",
    "\n",
    "While the aerial combat scenes are undeniably impressive, they can’t carry the movie on their own. The dogfights are well-choreographed, but they become repetitive as the film progresses. There’s only so much you can do with jets zooming through the sky before the action starts to blur together. By the time the climactic battle arrives, it feels like just another sequence of planes flying in circles rather than a true culmination of the movie’s tension.\n",
    "\n",
    "The dialogue in Top Gun is another weak point. The film is full of cheesy one-liners and catchphrases that may have been cool in the 80s but now feel dated and cringeworthy. Lines like “I feel the need, the need for speed” and “You can be my wingman anytime” might work as nostalgic throwbacks, but they don’t add much to the overall quality of the film.\n",
    "\n",
    "In the end, Top Gun feels like a product of its time—flashy, loud, and shallow. It’s a movie that values style over substance, and while it might offer a few thrills, it doesn’t hold up as a great film. The characters are one-dimensional, the story lacks depth, and the romance is unconvincing. Despite its iconic status, Top Gun ultimately feels more like an extended music video than a truly compelling piece of cinema.\"\"\"\n",
    "\n",
    "MovieReview6 = clean_up_white_space(MovieReview6)\n",
    "print(check_string_length(MovieReview6))\n",
    "\n",
    "# Uncomment one line only\n",
    "#ReviewType6 = \"Positive\"\n",
    "ReviewType6 = \"Negative\"\n"
   ]
  },
  {
   "cell_type": "code",
   "execution_count": 12,
   "id": "16869649",
   "metadata": {},
   "outputs": [
    {
     "name": "stdout",
     "output_type": "stream",
     "text": [
      "Length okay. 574 words\n"
     ]
    }
   ],
   "source": [
    "\n",
    "FileName7 = StudentName + \"_Doc7_\" + MovieTitle\n",
    "MovieReview7 = \"\"\"Despite its reputation as an 80s classic, Top Gun is a film that doesn’t quite live up to the hype. Sure, it’s got the high-flying action and the iconic soundtrack, but beyond that, the movie is plagued by a weak script, underdeveloped characters, and a lack of emotional depth. For all its style, Top Gun lacks the substance needed to make it a truly great film.\n",
    "\n",
    "One of the most glaring problems with Top Gun is its one-dimensional characters. Maverick, played by Tom Cruise, is introduced as a rebellious, daredevil pilot, and that’s pretty much all we get from him throughout the movie. His character arc is minimal at best—he starts out cocky and ends the movie still pretty much the same, despite a few moments of supposed introspection after the death of his best friend, Goose. But even Goose’s tragic death doesn’t seem to have a lasting impact on Maverick’s behavior, and the movie quickly shifts back to its action-heavy focus without exploring the emotional fallout of such a significant event.\n",
    "\n",
    "The romance between Maverick and Charlie (Kelly McGillis) feels particularly underwhelming. Their relationship develops almost out of nowhere, and their scenes together lack chemistry. It feels more like an obligatory romance subplot than a meaningful part of the story. McGillis’s character, who is supposed to be a brilliant civilian instructor, is reduced to little more than Maverick’s love interest, and her role in the film is disappointingly shallow.\n",
    "\n",
    "While the action sequences are well-shot and the aerial stunts are impressive, they can’t compensate for the film’s other shortcomings. The dogfights, though exciting at first, become repetitive after a while, and the movie’s pacing suffers as a result. There’s only so much that can be done with jets flying through the air, and the film doesn’t find enough ways to keep these scenes fresh or engaging.\n",
    "\n",
    "The film’s tone is another issue. It takes itself far too seriously for a movie that is essentially about a group of hotshot pilots competing to be the best. There’s very little humor or levity, and the moments of drama feel forced rather than earned. Top Gun tries to present itself as a serious, emotional film, but it lacks the character development and narrative complexity to pull it off.\n",
    "\n",
    "Finally, Top Gun is a movie that feels more like a long-form commercial for the Navy than a film with a real story to tell. It’s slick and polished, but it’s also hollow. It’s all surface, with very little depth beneath the glossy exterior. For a movie that’s supposed to be about pushing limits and testing one’s abilities, Top Gun plays it safe, never really challenging its audience or giving them something to think about. In the end, it’s a fun watch if you’re looking for 80s nostalgia, but it falls flat as a cinematic experience.\"\"\"\n",
    "MovieReview7 = clean_up_white_space(MovieReview7)\n",
    "print(check_string_length(MovieReview7))\n",
    "\n",
    "# Uncomment one line only\n",
    "#ReviewType7 = \"Positive\"\n",
    "ReviewType7 = \"Negative\"\n"
   ]
  },
  {
   "cell_type": "code",
   "execution_count": 13,
   "id": "c93826eb",
   "metadata": {},
   "outputs": [
    {
     "name": "stdout",
     "output_type": "stream",
     "text": [
      "Length okay. 607 words\n"
     ]
    }
   ],
   "source": [
    "\n",
    "FileName8 = StudentName + \"_Doc8_\" + MovieTitle\n",
    "MovieReview8 = \"\"\"Top Gun may be remembered as an iconic 80s movie, but when revisited today, it doesn’t hold up as well as one might expect. The film is filled with visual spectacle, but it falls short in areas that truly matter, like character development and a coherent plot. Directed by Tony Scott and starring Tom Cruise as Maverick, the film leans heavily on its aerial combat scenes and a now-famous soundtrack, but these elements can only carry the movie so far.\n",
    "\n",
    "One of the major issues with Top Gun is its lack of meaningful character arcs. Maverick is introduced as a cocky, arrogant pilot with a devil-may-care attitude, and by the end of the film, he’s still mostly the same person. His transformation feels superficial at best. Yes, there’s the tragic death of his best friend Goose, which is supposed to be the catalyst for his growth, but the emotional fallout is glossed over far too quickly. Rather than delving into Maverick’s grief or guilt, the movie quickly shifts back to its action sequences, leaving a lot of potential depth on the table.\n",
    "\n",
    "Speaking of the action, while the aerial combat scenes are visually impressive, they become repetitive after a while. The dogfights, shot with real jets, look great, but after the third or fourth sequence, the excitement starts to wear thin. There’s not much variation in the way these scenes are executed, and the film doesn’t seem to have much else to offer besides the spectacle of jets flying in formation. After a while, it feels like the movie is just going through the motions, using the same tricks over and over without adding anything new.\n",
    "\n",
    "The romance subplot between Maverick and Charlie (Kelly McGillis) is another weak point. It feels shoehorned into the film without much purpose or chemistry between the two leads. Their relationship develops abruptly, with little buildup or emotional connection, making it hard to invest in their romance. McGillis’s character, who is supposed to be a strong, independent civilian instructor, ends up being reduced to a love interest with little substance. The scenes between Maverick and Charlie are awkward, and the dialogue in these moments feels forced and unnatural.\n",
    "\n",
    "One of the most frustrating aspects of Top Gun is its failure to make use of its supporting cast. Characters like Iceman (Val Kilmer) and Viper (Tom Skerritt) could have added more to the story, but they are largely underutilized. Iceman, who is set up as Maverick’s rival, never gets the chance to develop into a fully realized character. Their rivalry is resolved in the final moments of the film with a brief handshake, but it feels rushed and unearned.\n",
    "\n",
    "In the end, Top Gun is a film that values style over substance. It looks great, sounds great, and has some memorable moments, but it’s hollow at its core. The plot is thin, the characters are underdeveloped, and the emotional beats feel shallow. While it may have been groundbreaking in its time, Top Gun doesn’t stand up to closer scrutiny, leaving much to be desired for viewers seeking a more well-rounded experience.\"\"\"\n",
    "\n",
    "MovieReview8 = clean_up_white_space(MovieReview8)\n",
    "print(check_string_length(MovieReview8))\n",
    "\n",
    "# Uncomment one line only\n",
    "#ReviewType8 = \"Positive\"\n",
    "ReviewType8 = \"Negative\"\n"
   ]
  },
  {
   "cell_type": "code",
   "execution_count": 14,
   "id": "8d036559",
   "metadata": {},
   "outputs": [
    {
     "name": "stdout",
     "output_type": "stream",
     "text": [
      "Length okay. 576 words\n"
     ]
    }
   ],
   "source": [
    "\n",
    "FileName9 = StudentName + \"_Doc9_\" + MovieTitle\n",
    "MovieReview9 = \"\"\"For all the hype surrounding Top Gun, it’s surprising how little substance the film actually delivers. Sure, the aerial combat sequences are visually impressive, and the soundtrack is filled with memorable songs, but beyond that, the movie feels empty. It’s a classic example of style over substance, where the focus is on creating a flashy, adrenaline-pumping experience rather than telling a compelling story or building complex characters.\n",
    "\n",
    "The main problem with Top Gun lies in its central character, Maverick, played by Tom Cruise. While Cruise brings his usual charm and energy to the role, Maverick as a character is frustratingly one-dimensional. From the start, he’s depicted as a cocky, rule-breaking pilot who believes he’s better than everyone else. Unfortunately, this doesn’t change much by the end of the film. Maverick’s supposed transformation, triggered by the death of his friend Goose, feels rushed and incomplete. Instead of delving into the emotional consequences of Goose’s death, the film quickly shifts back to more dogfights, leaving little time for character reflection or growth.\n",
    "\n",
    "The romance between Maverick and his instructor Charlie (Kelly McGillis) is another weak point. Their relationship feels more like a plot device than a genuine connection, and the lack of chemistry between the two leads doesn’t help. The love story doesn’t add much to the film, and it feels shoehorned into the narrative to appeal to a wider audience. Charlie’s role as a strong, intelligent woman is overshadowed by her function as Maverick’s love interest, and her character could have been much more impactful if she had been given more depth.\n",
    "\n",
    "Beyond the lackluster character development, Top Gun also suffers from repetitive pacing. The aerial combat scenes, while well-executed, start to feel monotonous after a while. There’s only so much excitement you can generate from jets flying in formation, and the film doesn’t do enough to differentiate each sequence. By the time the final battle arrives, it’s hard to feel truly invested because the stakes never feel high enough.\n",
    "\n",
    "The film’s dialogue is another issue. It’s filled with cheesy one-liners and cringeworthy exchanges that haven’t aged well. While lines like “I feel the need, the need for speed” may have become part of pop culture, they don’t add much to the overall quality of the film. The dialogue often feels forced and unnatural, particularly during the romantic scenes, which only adds to the film’s lack of emotional engagement.\n",
    "\n",
    "Ultimately, Top Gun is a movie that prioritizes spectacle over storytelling. It’s more concerned with looking cool than telling a meaningful story or exploring its characters in any depth. While it may have been groundbreaking in terms of visual effects and action sequences, it falls flat when it comes to delivering a compelling narrative. For all its hype, Top Gun feels like a hollow experience that fails to live up to its reputation as a classic.\"\"\"\n",
    "\n",
    "MovieReview9 = clean_up_white_space(MovieReview9)\n",
    "print(check_string_length(MovieReview9))\n",
    "\n",
    "# Uncomment one line only\n",
    "#ReviewType9 = \"Positive\"\n",
    "ReviewType9 = \"Negative\"\n"
   ]
  },
  {
   "cell_type": "code",
   "execution_count": 15,
   "id": "903bfefb",
   "metadata": {},
   "outputs": [
    {
     "name": "stdout",
     "output_type": "stream",
     "text": [
      "Length okay. 667 words\n"
     ]
    }
   ],
   "source": [
    "\n",
    "FileName10 = StudentName + \"_Doc10_\" + MovieTitle\n",
    "MovieReview10 = \"\"\"For all its flashy visuals and high-octane dogfights, Top Gun ultimately fails to deliver a compelling story or well-rounded characters. While the film may have cemented Tom Cruise as a Hollywood star, the movie itself is more style than substance. Directed by Tony Scott, Top Gun showcases impressive aerial sequences, but that’s where its strengths largely end. As an action movie, it’s visually stimulating, but as a narrative, it falls short in nearly every other area.\n",
    "\n",
    "The biggest issue with Top Gun is its lack of character development. Maverick, played by Cruise, is introduced as a cocky, rebellious pilot, and by the end of the movie, he’s still more or less the same. The arc that’s supposed to show him maturing after the death of his best friend Goose is rushed and doesn’t feel fully earned. One moment Maverick is grieving, and the next he’s back in the cockpit, seemingly unaffected. The emotional impact of Goose’s death is handled poorly, and the film moves on far too quickly without giving Maverick a chance to truly process the loss. As a result, the supposed growth of the character feels shallow.\n",
    "\n",
    "Another weakness of Top Gun is its predictable and underwhelming plot. The storyline revolves around Maverick’s time at the Top Gun Naval Flying School, where he competes against other pilots, most notably Val Kilmer’s Iceman. However, the rivalry between Maverick and Iceman is barely fleshed out, and their eventual reconciliation feels anticlimactic. The film sets up Iceman as the antagonist, but he never gets enough screen time or development to truly become a compelling foil to Maverick. By the time they shake hands at the end, it feels like a forced conclusion rather than a natural progression of their relationship.\n",
    "\n",
    "The romance subplot between Maverick and Charlie (Kelly McGillis) is another weak point. Their relationship feels contrived and lacks chemistry. Charlie, who is supposed to be a brilliant civilian instructor, is reduced to little more than a love interest with a handful of clichéd lines. The romantic scenes between Maverick and Charlie are awkward and don’t contribute much to the overall narrative. In fact, their interactions often feel like they’re just there to pad the movie’s runtime rather than add anything meaningful to the story.\n",
    "\n",
    "Even the iconic aerial combat scenes, which are often cited as the film’s standout moments, start to feel repetitive after a while. The initial dogfights are exciting and visually impressive, but as the movie goes on, the novelty wears off. The film relies too heavily on these action sequences to keep the audience engaged, but without a strong emotional or narrative core to support them, the action starts to feel empty. By the time the final battle arrives, it’s hard to care because the movie hasn’t given us much reason to be invested in the characters or their journey.\n",
    "\n",
    "In the end, Top Gun is a movie that looks great on the surface but lacks the depth needed to make it truly memorable. It’s a fun watch if you’re in the mood for some 80s nostalgia and adrenaline-fueled action, but beyond that, it doesn’t offer much. The characters are flat, the plot is thin, and the emotional beats don’t land the way they should. For all its cultural impact, Top Gun is more of a spectacle than a story, and that’s its biggest downfall.\"\"\"\n",
    "\n",
    "MovieReview10 = clean_up_white_space(MovieReview10)\n",
    "print(check_string_length(MovieReview10))\n",
    "\n",
    "# Uncomment one line only\n",
    "#ReviewType10 = \"Positive\"\n",
    "ReviewType10 = \"Negative\"\n"
   ]
  },
  {
   "cell_type": "code",
   "execution_count": 16,
   "id": "9a771190",
   "metadata": {},
   "outputs": [],
   "source": [
    "\n",
    "import unicodedata\n",
    "\n",
    "# Function to flatten text to ASCII\n",
    "def flatten_to_ascii(text):\n",
    "    # Convert smart quotes and curly apostrophes\n",
    "    text = text.replace('“', '\"').replace('”', '\"').replace('‘', \"'\").replace('’', \"'\")\n",
    "    \n",
    "    # Flatten to closest ASCII character\n",
    "    return unicodedata.normalize('NFKD', text).encode('ascii', 'ignore').decode('utf-8')\n"
   ]
  },
  {
   "cell_type": "code",
   "execution_count": 17,
   "id": "05e2cbf0",
   "metadata": {},
   "outputs": [
    {
     "name": "stdout",
     "output_type": "stream",
     "text": [
      "Files saved to:\n",
      "/Users/jck/Documents/MSDS 453/Week 1//ZEO_MetaData.csv\n",
      "/Users/jck/Documents/MSDS 453/Week 1//ZEO_MovieReview.csv\n"
     ]
    }
   ],
   "source": [
    "import pandas as pd\n",
    "\n",
    "# Flatten the movie reviews to ASCII\n",
    "movie_reviews = [MovieReview1, MovieReview2, MovieReview3, MovieReview4, MovieReview5, MovieReview6, MovieReview7, MovieReview8, MovieReview9, MovieReview10]\n",
    "flattened_reviews = [flatten_to_ascii(review) for review in movie_reviews]\n",
    "\n",
    "# Verify that there are 5 positive and 5 negative reviews\n",
    "positive_count = sum(1 for rt in [ReviewType1, ReviewType2, ReviewType3, ReviewType4, ReviewType5, ReviewType6, ReviewType7, ReviewType8, ReviewType9, ReviewType10] if rt == \"Positive\")\n",
    "negative_count = sum(1 for rt in [ReviewType1, ReviewType2, ReviewType3, ReviewType4, ReviewType5, ReviewType6, ReviewType7, ReviewType8, ReviewType9, ReviewType10] if rt == \"Negative\")\n",
    "if positive_count != 5 or negative_count != 5:\n",
    "    raise ValueError(f\"Number of Positive Reviews: {positive_count}, Number of Negative Reviews: {negative_count}. Ensure you have 5 of each.\")\n",
    "\n",
    "# Construct the metadata dataframe\n",
    "meta_data = {\n",
    "    'FileName': [FileName1, FileName2, FileName3, FileName4, FileName5, FileName6, FileName7, FileName8, FileName9, FileName10],\n",
    "    'StudentName': [StudentName] * 10,\n",
    "    'Genre': [Genre] * 10,\n",
    "    'ReviewType': [ReviewType1, ReviewType2, ReviewType3, ReviewType4, ReviewType5, ReviewType6, ReviewType7, ReviewType8, ReviewType9, ReviewType10],\n",
    "    'MovieTitle': [MovieTitle] * 10\n",
    "}\n",
    "meta_df = pd.DataFrame(meta_data)\n",
    "\n",
    "# Construct the movie review dataframe\n",
    "review_data = {\n",
    "    'FileName': [FileName1, FileName2, FileName3, FileName4, FileName5, FileName6, FileName7, FileName8, FileName9, FileName10],\n",
    "    'MovieReview': flattened_reviews\n",
    "}\n",
    "review_df = pd.DataFrame(review_data)\n",
    "\n",
    "# Save the dataframes as ASCII CSV files\n",
    "meta_df.to_csv(destination_folder+'/'+StudentName+'_MetaData.csv', index=False, encoding='ascii')\n",
    "review_df.to_csv(destination_folder+'/'+StudentName+'_MovieReview.csv', index=False, encoding='ascii')\n",
    "\n",
    "print (\"Files saved to:\")\n",
    "print (destination_folder+'/'+StudentName+'_MetaData.csv')\n",
    "print (destination_folder+'/'+StudentName+'_MovieReview.csv')"
   ]
  },
  {
   "cell_type": "code",
   "execution_count": 18,
   "id": "4d11cb67",
   "metadata": {},
   "outputs": [],
   "source": [
    "# Please save and turn in your Python notebook along with the two CSV files \n",
    "# (MetaData and MovieRreview). Thank you!"
   ]
  },
  {
   "cell_type": "code",
   "execution_count": 19,
   "id": "6534262d",
   "metadata": {},
   "outputs": [],
   "source": [
    "# Please submit two CSV files and this notebook,\n",
    "# NOT Microsoft Excel *.XLSX spreadsheets and not Apple Numbers spreadsheets \n",
    "# and not a ZIP file. "
   ]
  },
  {
   "cell_type": "code",
   "execution_count": 20,
   "id": "3a8ac402",
   "metadata": {},
   "outputs": [
    {
     "name": "stdout",
     "output_type": "stream",
     "text": [
      "[NbConvertApp] Converting notebook Final_MSDS453_Discussion_01_ZEO.ipynb to pdf\n",
      "[NbConvertApp] Writing 76980 bytes to notebook.tex\n",
      "[NbConvertApp] Building PDF\n",
      "[NbConvertApp] Running xelatex 3 times: ['xelatex', 'notebook.tex', '-quiet']\n",
      "[NbConvertApp] Running bibtex 1 time: ['bibtex', 'notebook']\n",
      "[NbConvertApp] WARNING | bibtex had problems, most likely because there were no citations\n",
      "[NbConvertApp] PDF successfully created\n",
      "[NbConvertApp] Writing 87714 bytes to Final_MSDS453_Discussion_01_ZEO.pdf\n"
     ]
    }
   ],
   "source": [
    "!jupyter nbconvert --to pdf Final_MSDS453_Discussion_01_ZEO.ipynb"
   ]
  }
 ],
 "metadata": {
  "kernelspec": {
   "display_name": "Python 3 (ipykernel)",
   "language": "python",
   "name": "python3"
  },
  "language_info": {
   "codemirror_mode": {
    "name": "ipython",
    "version": 3
   },
   "file_extension": ".py",
   "mimetype": "text/x-python",
   "name": "python",
   "nbconvert_exporter": "python",
   "pygments_lexer": "ipython3",
   "version": "3.11.5"
  }
 },
 "nbformat": 4,
 "nbformat_minor": 5
}
